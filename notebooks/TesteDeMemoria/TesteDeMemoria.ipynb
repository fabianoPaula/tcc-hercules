{
 "cells": [
  {
   "cell_type": "code",
   "execution_count": 2,
   "metadata": {},
   "outputs": [],
   "source": [
    "import math\n",
    "from functools import reduce\n",
    "import xml.etree.ElementTree as ET\n",
    "import csv\n",
    "\n",
    "import numpy as np\n",
    "import numpy.random as random #Random samples generator\n",
    "from numpy.random import normal \n",
    "from random import shuffle\n",
    "import scipy\n",
    "import pandas as pd\n",
    "\n",
    "import matplotlib.pyplot as plt #Para plotar o dataset\n",
    "import matplotlib.patches as mpatches\n",
    "import matplotlib.mlab as mlab #Para plotar pdf da gaussiana\n",
    "\n",
    "import time\n",
    "from datetime import datetime\n",
    "\n",
    "from IPython.display import HTML, display\n",
    "\n",
    "primes = [ 2,   3,   5,   7,   11,  13,  17,  19,  23,  29,\n",
    "           31,  37,  41,  43,  47,  53,  59,  61,  67,  71, \n",
    "           73,  79,  83,  89,  97,  101, 103, 107, 109, 113 ]\n",
    "\n",
    "scenarios = ['C1','C2','C3','C4']\n",
    "\n",
    "envs = { 'C1' : [[50.0,4.0],[ 92.0,18.0]],\n",
    "         'C2' : [[85.0,2.0],[ 92.0,18.0]],\n",
    "         'C3' : [[50.0,4.0],[155.0, 2.0]],\n",
    "         'C4' : [[85.0,2.0],[155.0, 2.0]]  }\n",
    "\n",
    "apps = ['powerline', 'battery']"
   ]
  },
  {
   "cell_type": "code",
   "execution_count": 27,
   "metadata": {},
   "outputs": [
    {
     "name": "stdout",
     "output_type": "stream",
     "text": [
      "Hepheastus:\n",
      "Total Flash Memory: 50396 bytes\n",
      "Total RAM Memory: 6522 bytes\n",
      "\n",
      "\n",
      "Hercules:\n",
      "Total Flash Memory: 46292 bytes\n",
      "Total RAM Memory: 6258 bytes\n"
     ]
    }
   ],
   "source": [
    "\n",
    "def total_memory(filename):\n",
    "    df = pd.read_csv(filename,sep=' ', header=None)\n",
    "    df = df.iloc[1:]\n",
    "    df[\"Size\"] = df[0]\n",
    "    df[\"SectionName\"] = df[1]\n",
    "    df = df.filter([\"SectionName\",\"Size\"])\n",
    "    df[\"Size\"] = pd.to_numeric(df[\"Size\"])\n",
    "    return df[\"Size\"].sum()\n",
    "\n",
    "samples_number = 200\n",
    "split_points = 10\n",
    "\n",
    "print(\"Hepheastus:\")\n",
    "print(\"Total Flash Memory: %d bytes\" % total_memory(\"../../memory_data/hepheastus.flashprof\"))\n",
    "print(\"Total RAM Memory: %d bytes\\n\\n\" % (total_memory(\"../../memory_data/hepheastus.ramprof\") - 4*samples_number - 4*split_points ))\n",
    "\n",
    "bins_number = 30\n",
    "intervals_number = 15\n",
    "\n",
    "print(\"Hercules:\")\n",
    "print(\"Total Flash Memory: %d bytes\" % total_memory(\"../../memory_data/hercules.flashprof\"))\n",
    "print(\"Total RAM Memory: %d bytes\" % (total_memory(\"../../memory_data/hercules.ramprof\") - 2*samples_number - 2*intervals_number - 2*2*bins_number - 3*2*intervals_number))"
   ]
  }
 ],
 "metadata": {
  "kernelspec": {
   "display_name": "Python 3",
   "language": "python",
   "name": "python3"
  },
  "language_info": {
   "codemirror_mode": {
    "name": "ipython",
    "version": 3
   },
   "file_extension": ".py",
   "mimetype": "text/x-python",
   "name": "python",
   "nbconvert_exporter": "python",
   "pygments_lexer": "ipython3",
   "version": "3.7.3"
  }
 },
 "nbformat": 4,
 "nbformat_minor": 4
}

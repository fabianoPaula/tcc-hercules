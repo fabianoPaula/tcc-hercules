{
 "cells": [
  {
   "cell_type": "code",
   "execution_count": 1,
   "metadata": {},
   "outputs": [],
   "source": [
    "import sys\n",
    "import csv\n",
    "import xlsxwriter\n",
    "import copy\n",
    "import math\n",
    "from functools import reduce\n",
    "import xml.etree.ElementTree as ET\n",
    "\n",
    "import numpy as np\n",
    "import numpy.random as random #Random samples generator\n",
    "from numpy.random import normal \n",
    "from random import shuffle\n",
    "import scipy\n",
    "import pandas as pd\n",
    "\n",
    "import matplotlib.pyplot as plt #Para plotar o dataset\n",
    "import matplotlib.patches as mpatches\n",
    "import matplotlib.mlab as mlab #Para plotar pdf da gaussiana\n",
    "\n",
    "from IPython.display import HTML, display\n",
    "\n",
    "# 100 primos selecionados para gerar dados de teste\n",
    "primes = [ 2,   3,   5,   7,   11,  13,  17,  19,  23,  29,\n",
    "           31,  37,  41,  43,  47,  53,  59,  61,  67,  71, \n",
    "           73,  79,  83,  89,  97,  101, 103, 107, 109, 113, \n",
    "           127, 131, 137, 139, 149, 151, 157, 163, 167, 173 ]\n",
    "\n",
    "scenarios = ['C1','C2','C3','C4']\n",
    "\n",
    "envs = { 'C1' : [[50.0,4.0],[92.0,18.0]],\n",
    "         'C2' : [[85.0,2.0],[92.0,18.0]],\n",
    "         'C3' : [[50.0,4.0],[155.0,2.0]],\n",
    "         'C4' : [[85.0,2.0],[155.0,2.0]]  }\n",
    "\n",
    "apps = ['powerline', 'battery']"
   ]
  },
  {
   "cell_type": "code",
   "execution_count": 68,
   "metadata": {},
   "outputs": [],
   "source": [
    "# method = 'hercules'\n",
    "# case = \"C1\"\n",
    "# seed = \"103\"\n",
    "\n",
    "def generate_simulation(method, case, seed):\n",
    "\n",
    "    print(\"%s - %s - %i\" % (method.capitalize(), case, seed))\n",
    "    \n",
    "    filename = '../../simulations/'+method+'/simulation-'+case+'-'+str(seed)+'.csc'\n",
    "\n",
    "    tree = ET.parse('./examples/'+method+'.csc')\n",
    "    example = tree.getroot()\n",
    "\n",
    "    new_root = ET.Element('simconf')\n",
    "    for child in root:\n",
    "        if child.tag == \"simulation\":\n",
    "            for child2 in child:\n",
    "                if child2.tag == \"title\":\n",
    "                    child2.text = method+case+' Seed:'+str(seed)\n",
    "                elif child2.tag == \"randomseed\":\n",
    "                    child2.text = str(seed)\n",
    "                elif child2.tag == \"motetype\":\n",
    "                    for childDesc in child2.iter('description'):\n",
    "                        if childDesc.text == \"PowerlineCollector\":\n",
    "                            for childSource in child2.iter('source'):\n",
    "                                childSource.text = \"[CONTIKI_DIR]/examples/tcc-iot/collector-powerline-\"+case+\"-\"+str(seed)+\".c\"\n",
    "                                print(childSource.text)\n",
    "                            for childCommands in child2.iter('commands'):\n",
    "                                childCommands.text = \"make collector-powerline-\"+case+\"-\"+str(seed)+\".z1 TARGET=z1\"\n",
    "                                print(childCommands.text)\n",
    "                            for childFirmware in child2.iter('firmware'):\n",
    "                                childFirmware.text = \"[CONTIKI_DIR]/examples/tcc-iot/collector-powerline-\"+case+\"-\"+str(seed)+\".z1\"\n",
    "                                print(childFirmware.text)\n",
    "                        elif childDesc.text == \"BatteryCollector\":\n",
    "                            for childSource in child2.iter('source'):\n",
    "                                childSource.text = \"[CONTIKI_DIR]/examples/tcc-iot/collector-battery-\"+case+\"-\"+str(seed)+\".c\"\n",
    "                                print(childSource.text)\n",
    "                            for childCommands in child2.iter('commands'):\n",
    "                                childCommands.text = \"make collector-battery-\"+case+\"-\"+str(seed)+\".z1 TARGET=z1\"\n",
    "                                print(childCommands.text)\n",
    "                            for childFirmware in child2.iter('firmware'):\n",
    "                                childFirmware.text = \"[CONTIKI_DIR]/examples/tcc-iot/collector-battery-\"+case+\"-\"+str(seed)+\".z1\"\n",
    "                                print(childFirmware.text)\n",
    "                        else:\n",
    "                            print(childDesc.text)\n",
    "        new_root.append(child)\n",
    "    tree = ET.ElementTree(new_root)\n",
    "    tree.write(filename)\n",
    "    \n",
    "    "
   ]
  },
  {
   "cell_type": "code",
   "execution_count": 69,
   "metadata": {},
   "outputs": [
    {
     "name": "stdout",
     "output_type": "stream",
     "text": [
      "Hepheastus - C1 - 2\n",
      "Hercules\n",
      "[CONTIKI_DIR]/examples/tcc-iot/collector-powerline-C1-2.c\n",
      "make collector-powerline-C1-2.z1 TARGET=z1\n",
      "[CONTIKI_DIR]/examples/tcc-iot/collector-powerline-C1-2.z1\n",
      "[CONTIKI_DIR]/examples/tcc-iot/collector-battery-C1-2.c\n",
      "make collector-battery-C1-2.z1 TARGET=z1\n",
      "[CONTIKI_DIR]/examples/tcc-iot/collector-battery-C1-2.z1\n"
     ]
    },
    {
     "ename": "TypeError",
     "evalue": "cannot serialize 2 (type int)",
     "output_type": "error",
     "traceback": [
      "\u001b[0;31m---------------------------------------------------------------------------\u001b[0m",
      "\u001b[0;31mTypeError\u001b[0m                                 Traceback (most recent call last)",
      "\u001b[0;32m~/.local/anaconda/lib/python3.7/xml/etree/ElementTree.py\u001b[0m in \u001b[0;36m_escape_cdata\u001b[0;34m(text)\u001b[0m\n\u001b[1;32m   1066\u001b[0m         \u001b[0;31m# the most common case in most applications.\u001b[0m\u001b[0;34m\u001b[0m\u001b[0;34m\u001b[0m\u001b[0;34m\u001b[0m\u001b[0m\n\u001b[0;32m-> 1067\u001b[0;31m         \u001b[0;32mif\u001b[0m \u001b[0;34m\"&\"\u001b[0m \u001b[0;32min\u001b[0m \u001b[0mtext\u001b[0m\u001b[0;34m:\u001b[0m\u001b[0;34m\u001b[0m\u001b[0;34m\u001b[0m\u001b[0m\n\u001b[0m\u001b[1;32m   1068\u001b[0m             \u001b[0mtext\u001b[0m \u001b[0;34m=\u001b[0m \u001b[0mtext\u001b[0m\u001b[0;34m.\u001b[0m\u001b[0mreplace\u001b[0m\u001b[0;34m(\u001b[0m\u001b[0;34m\"&\"\u001b[0m\u001b[0;34m,\u001b[0m \u001b[0;34m\"&amp;\"\u001b[0m\u001b[0;34m)\u001b[0m\u001b[0;34m\u001b[0m\u001b[0;34m\u001b[0m\u001b[0m\n",
      "\u001b[0;31mTypeError\u001b[0m: argument of type 'int' is not iterable",
      "\nDuring handling of the above exception, another exception occurred:\n",
      "\u001b[0;31mTypeError\u001b[0m                                 Traceback (most recent call last)",
      "\u001b[0;32m<ipython-input-69-f676239ce2de>\u001b[0m in \u001b[0;36m<module>\u001b[0;34m\u001b[0m\n\u001b[1;32m      2\u001b[0m     \u001b[0;32mfor\u001b[0m \u001b[0mmethod\u001b[0m \u001b[0;32min\u001b[0m \u001b[0;34m[\u001b[0m\u001b[0;34m'hepheastus'\u001b[0m\u001b[0;34m,\u001b[0m \u001b[0;34m'hercules'\u001b[0m\u001b[0;34m]\u001b[0m\u001b[0;34m:\u001b[0m\u001b[0;34m\u001b[0m\u001b[0;34m\u001b[0m\u001b[0m\n\u001b[1;32m      3\u001b[0m         \u001b[0;32mfor\u001b[0m \u001b[0mcase\u001b[0m \u001b[0;32min\u001b[0m \u001b[0mscenarios\u001b[0m\u001b[0;34m:\u001b[0m\u001b[0;34m\u001b[0m\u001b[0;34m\u001b[0m\u001b[0m\n\u001b[0;32m----> 4\u001b[0;31m             \u001b[0mgenerate_simulation\u001b[0m\u001b[0;34m(\u001b[0m\u001b[0mmethod\u001b[0m\u001b[0;34m,\u001b[0m \u001b[0mcase\u001b[0m\u001b[0;34m,\u001b[0m \u001b[0mseed\u001b[0m\u001b[0;34m)\u001b[0m\u001b[0;34m\u001b[0m\u001b[0;34m\u001b[0m\u001b[0m\n\u001b[0m",
      "\u001b[0;32m<ipython-input-68-65c7f85daf92>\u001b[0m in \u001b[0;36mgenerate_simulation\u001b[0;34m(method, case, seed)\u001b[0m\n\u001b[1;32m     46\u001b[0m         \u001b[0mnew_root\u001b[0m\u001b[0;34m.\u001b[0m\u001b[0mappend\u001b[0m\u001b[0;34m(\u001b[0m\u001b[0mchild\u001b[0m\u001b[0;34m)\u001b[0m\u001b[0;34m\u001b[0m\u001b[0;34m\u001b[0m\u001b[0m\n\u001b[1;32m     47\u001b[0m     \u001b[0mtree\u001b[0m \u001b[0;34m=\u001b[0m \u001b[0mET\u001b[0m\u001b[0;34m.\u001b[0m\u001b[0mElementTree\u001b[0m\u001b[0;34m(\u001b[0m\u001b[0mnew_root\u001b[0m\u001b[0;34m)\u001b[0m\u001b[0;34m\u001b[0m\u001b[0;34m\u001b[0m\u001b[0m\n\u001b[0;32m---> 48\u001b[0;31m     \u001b[0mtree\u001b[0m\u001b[0;34m.\u001b[0m\u001b[0mwrite\u001b[0m\u001b[0;34m(\u001b[0m\u001b[0mfilename\u001b[0m\u001b[0;34m)\u001b[0m\u001b[0;34m\u001b[0m\u001b[0;34m\u001b[0m\u001b[0m\n\u001b[0m\u001b[1;32m     49\u001b[0m \u001b[0;34m\u001b[0m\u001b[0m\n\u001b[1;32m     50\u001b[0m \u001b[0;34m\u001b[0m\u001b[0m\n",
      "\u001b[0;32m~/.local/anaconda/lib/python3.7/xml/etree/ElementTree.py\u001b[0m in \u001b[0;36mwrite\u001b[0;34m(self, file_or_filename, encoding, xml_declaration, default_namespace, method, short_empty_elements)\u001b[0m\n\u001b[1;32m    775\u001b[0m                 \u001b[0mserialize\u001b[0m \u001b[0;34m=\u001b[0m \u001b[0m_serialize\u001b[0m\u001b[0;34m[\u001b[0m\u001b[0mmethod\u001b[0m\u001b[0;34m]\u001b[0m\u001b[0;34m\u001b[0m\u001b[0;34m\u001b[0m\u001b[0m\n\u001b[1;32m    776\u001b[0m                 serialize(write, self._root, qnames, namespaces,\n\u001b[0;32m--> 777\u001b[0;31m                           short_empty_elements=short_empty_elements)\n\u001b[0m\u001b[1;32m    778\u001b[0m \u001b[0;34m\u001b[0m\u001b[0m\n\u001b[1;32m    779\u001b[0m     \u001b[0;32mdef\u001b[0m \u001b[0mwrite_c14n\u001b[0m\u001b[0;34m(\u001b[0m\u001b[0mself\u001b[0m\u001b[0;34m,\u001b[0m \u001b[0mfile\u001b[0m\u001b[0;34m)\u001b[0m\u001b[0;34m:\u001b[0m\u001b[0;34m\u001b[0m\u001b[0;34m\u001b[0m\u001b[0m\n",
      "\u001b[0;32m~/.local/anaconda/lib/python3.7/xml/etree/ElementTree.py\u001b[0m in \u001b[0;36m_serialize_xml\u001b[0;34m(write, elem, qnames, namespaces, short_empty_elements, **kwargs)\u001b[0m\n\u001b[1;32m    940\u001b[0m                 \u001b[0;32mfor\u001b[0m \u001b[0me\u001b[0m \u001b[0;32min\u001b[0m \u001b[0melem\u001b[0m\u001b[0;34m:\u001b[0m\u001b[0;34m\u001b[0m\u001b[0;34m\u001b[0m\u001b[0m\n\u001b[1;32m    941\u001b[0m                     _serialize_xml(write, e, qnames, None,\n\u001b[0;32m--> 942\u001b[0;31m                                    short_empty_elements=short_empty_elements)\n\u001b[0m\u001b[1;32m    943\u001b[0m                 \u001b[0mwrite\u001b[0m\u001b[0;34m(\u001b[0m\u001b[0;34m\"</\"\u001b[0m \u001b[0;34m+\u001b[0m \u001b[0mtag\u001b[0m \u001b[0;34m+\u001b[0m \u001b[0;34m\">\"\u001b[0m\u001b[0;34m)\u001b[0m\u001b[0;34m\u001b[0m\u001b[0;34m\u001b[0m\u001b[0m\n\u001b[1;32m    944\u001b[0m             \u001b[0;32melse\u001b[0m\u001b[0;34m:\u001b[0m\u001b[0;34m\u001b[0m\u001b[0;34m\u001b[0m\u001b[0m\n",
      "\u001b[0;32m~/.local/anaconda/lib/python3.7/xml/etree/ElementTree.py\u001b[0m in \u001b[0;36m_serialize_xml\u001b[0;34m(write, elem, qnames, namespaces, short_empty_elements, **kwargs)\u001b[0m\n\u001b[1;32m    940\u001b[0m                 \u001b[0;32mfor\u001b[0m \u001b[0me\u001b[0m \u001b[0;32min\u001b[0m \u001b[0melem\u001b[0m\u001b[0;34m:\u001b[0m\u001b[0;34m\u001b[0m\u001b[0;34m\u001b[0m\u001b[0m\n\u001b[1;32m    941\u001b[0m                     _serialize_xml(write, e, qnames, None,\n\u001b[0;32m--> 942\u001b[0;31m                                    short_empty_elements=short_empty_elements)\n\u001b[0m\u001b[1;32m    943\u001b[0m                 \u001b[0mwrite\u001b[0m\u001b[0;34m(\u001b[0m\u001b[0;34m\"</\"\u001b[0m \u001b[0;34m+\u001b[0m \u001b[0mtag\u001b[0m \u001b[0;34m+\u001b[0m \u001b[0;34m\">\"\u001b[0m\u001b[0;34m)\u001b[0m\u001b[0;34m\u001b[0m\u001b[0;34m\u001b[0m\u001b[0m\n\u001b[1;32m    944\u001b[0m             \u001b[0;32melse\u001b[0m\u001b[0;34m:\u001b[0m\u001b[0;34m\u001b[0m\u001b[0;34m\u001b[0m\u001b[0m\n",
      "\u001b[0;32m~/.local/anaconda/lib/python3.7/xml/etree/ElementTree.py\u001b[0m in \u001b[0;36m_serialize_xml\u001b[0;34m(write, elem, qnames, namespaces, short_empty_elements, **kwargs)\u001b[0m\n\u001b[1;32m    937\u001b[0m                 \u001b[0mwrite\u001b[0m\u001b[0;34m(\u001b[0m\u001b[0;34m\">\"\u001b[0m\u001b[0;34m)\u001b[0m\u001b[0;34m\u001b[0m\u001b[0;34m\u001b[0m\u001b[0m\n\u001b[1;32m    938\u001b[0m                 \u001b[0;32mif\u001b[0m \u001b[0mtext\u001b[0m\u001b[0;34m:\u001b[0m\u001b[0;34m\u001b[0m\u001b[0;34m\u001b[0m\u001b[0m\n\u001b[0;32m--> 939\u001b[0;31m                     \u001b[0mwrite\u001b[0m\u001b[0;34m(\u001b[0m\u001b[0m_escape_cdata\u001b[0m\u001b[0;34m(\u001b[0m\u001b[0mtext\u001b[0m\u001b[0;34m)\u001b[0m\u001b[0;34m)\u001b[0m\u001b[0;34m\u001b[0m\u001b[0;34m\u001b[0m\u001b[0m\n\u001b[0m\u001b[1;32m    940\u001b[0m                 \u001b[0;32mfor\u001b[0m \u001b[0me\u001b[0m \u001b[0;32min\u001b[0m \u001b[0melem\u001b[0m\u001b[0;34m:\u001b[0m\u001b[0;34m\u001b[0m\u001b[0;34m\u001b[0m\u001b[0m\n\u001b[1;32m    941\u001b[0m                     _serialize_xml(write, e, qnames, None,\n",
      "\u001b[0;32m~/.local/anaconda/lib/python3.7/xml/etree/ElementTree.py\u001b[0m in \u001b[0;36m_escape_cdata\u001b[0;34m(text)\u001b[0m\n\u001b[1;32m   1073\u001b[0m         \u001b[0;32mreturn\u001b[0m \u001b[0mtext\u001b[0m\u001b[0;34m\u001b[0m\u001b[0;34m\u001b[0m\u001b[0m\n\u001b[1;32m   1074\u001b[0m     \u001b[0;32mexcept\u001b[0m \u001b[0;34m(\u001b[0m\u001b[0mTypeError\u001b[0m\u001b[0;34m,\u001b[0m \u001b[0mAttributeError\u001b[0m\u001b[0;34m)\u001b[0m\u001b[0;34m:\u001b[0m\u001b[0;34m\u001b[0m\u001b[0;34m\u001b[0m\u001b[0m\n\u001b[0;32m-> 1075\u001b[0;31m         \u001b[0m_raise_serialization_error\u001b[0m\u001b[0;34m(\u001b[0m\u001b[0mtext\u001b[0m\u001b[0;34m)\u001b[0m\u001b[0;34m\u001b[0m\u001b[0;34m\u001b[0m\u001b[0m\n\u001b[0m\u001b[1;32m   1076\u001b[0m \u001b[0;34m\u001b[0m\u001b[0m\n\u001b[1;32m   1077\u001b[0m \u001b[0;32mdef\u001b[0m \u001b[0m_escape_attrib\u001b[0m\u001b[0;34m(\u001b[0m\u001b[0mtext\u001b[0m\u001b[0;34m)\u001b[0m\u001b[0;34m:\u001b[0m\u001b[0;34m\u001b[0m\u001b[0;34m\u001b[0m\u001b[0m\n",
      "\u001b[0;32m~/.local/anaconda/lib/python3.7/xml/etree/ElementTree.py\u001b[0m in \u001b[0;36m_raise_serialization_error\u001b[0;34m(text)\u001b[0m\n\u001b[1;32m   1056\u001b[0m \u001b[0;32mdef\u001b[0m \u001b[0m_raise_serialization_error\u001b[0m\u001b[0;34m(\u001b[0m\u001b[0mtext\u001b[0m\u001b[0;34m)\u001b[0m\u001b[0;34m:\u001b[0m\u001b[0;34m\u001b[0m\u001b[0;34m\u001b[0m\u001b[0m\n\u001b[1;32m   1057\u001b[0m     raise TypeError(\n\u001b[0;32m-> 1058\u001b[0;31m         \u001b[0;34m\"cannot serialize %r (type %s)\"\u001b[0m \u001b[0;34m%\u001b[0m \u001b[0;34m(\u001b[0m\u001b[0mtext\u001b[0m\u001b[0;34m,\u001b[0m \u001b[0mtype\u001b[0m\u001b[0;34m(\u001b[0m\u001b[0mtext\u001b[0m\u001b[0;34m)\u001b[0m\u001b[0;34m.\u001b[0m\u001b[0m__name__\u001b[0m\u001b[0;34m)\u001b[0m\u001b[0;34m\u001b[0m\u001b[0;34m\u001b[0m\u001b[0m\n\u001b[0m\u001b[1;32m   1059\u001b[0m         )\n\u001b[1;32m   1060\u001b[0m \u001b[0;34m\u001b[0m\u001b[0m\n",
      "\u001b[0;31mTypeError\u001b[0m: cannot serialize 2 (type int)"
     ]
    }
   ],
   "source": [
    "\n",
    "for seed in primes:\n",
    "    for method in ['hepheastus', 'hercules']:\n",
    "        for case in scenarios:\n",
    "            generate_simulation(method, case, seed)"
   ]
  },
  {
   "cell_type": "markdown",
   "metadata": {},
   "source": [
    "## Gerador de Simulations"
   ]
  },
  {
   "cell_type": "code",
   "execution_count": null,
   "metadata": {},
   "outputs": [],
   "source": []
  }
 ],
 "metadata": {
  "gist": {
   "data": {
    "description": "Teste de Acurácia.ipynb",
    "public": false
   },
   "id": ""
  },
  "kernelspec": {
   "display_name": "Python 3",
   "language": "python",
   "name": "python3"
  },
  "language_info": {
   "codemirror_mode": {
    "name": "ipython",
    "version": 3
   },
   "file_extension": ".py",
   "mimetype": "text/x-python",
   "name": "python",
   "nbconvert_exporter": "python",
   "pygments_lexer": "ipython3",
   "version": "3.7.3"
  },
  "latex_envs": {
   "LaTeX_envs_menu_present": true,
   "autoclose": true,
   "autocomplete": true,
   "bibliofile": "biblio.bib",
   "cite_by": "apalike",
   "current_citInitial": 1,
   "eqLabelWithNumbers": true,
   "eqNumInitial": 1,
   "hotkeys": {
    "equation": "Ctrl-E",
    "itemize": "Ctrl-I"
   },
   "labels_anchors": false,
   "latex_user_defs": false,
   "report_style_numbering": true,
   "user_envs_cfg": false
  }
 },
 "nbformat": 4,
 "nbformat_minor": 4
}
